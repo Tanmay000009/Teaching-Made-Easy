!pip install sent2vec

from scipy import spatial
from sent2vec.vectorizer import Vectorizer
vectorizer = Vectorizer()

 match = [
     "The leaves of a plant do photosynthesis and prepare food for the plant in the form of starch. A green coloured pigment named chlorophyll is necessary for this process which is present in the leaves. Hence, leaves are green in colour",
     "Leave of the plant make food by the process of photosynthesis. Chlorophyll is required for photosynthesis. Chlorophyll is green in colour. That's why leaves of the plant are green in colour."]

vectorizer.bert(match)
vectors_bert = vectorizer.vectors

dist_1 = spatial.distance.cosine(vectors_bert[0], vectors_bert[1])
print((1-dist_1)*100)
